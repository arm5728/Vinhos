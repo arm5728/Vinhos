{
 "cells": [
  {
   "cell_type": "markdown",
   "id": "c10b2f43-e00d-4572-b18e-0e9b09f380f3",
   "metadata": {
    "tags": []
   },
   "source": [
    "# CS 342 Final Project - Feed-forward MLP on Wine Quality Dataset\n",
    "\n",
    "With only one\n",
    "\n",
    "Adrian Melendez Relli - \n",
    "arm5728"
   ]
  },
  {
   "cell_type": "code",
   "execution_count": 446,
   "id": "798fae3e-75fb-4ea0-b7e6-5a6d7e8a1187",
   "metadata": {},
   "outputs": [
    {
     "name": "stderr",
     "output_type": "stream",
     "text": [
      "Enabling notebook extension jupyter-js-widgets/extension...\n",
      "      - Validating: ok\n"
     ]
    }
   ],
   "source": [
    "import torch \n",
    "import csv\n",
    "from torch import nn\n",
    "import numpy as np\n",
    "!jupyter nbextension enable --py widgetsnbextension\n",
    "from tqdm.notebook import tqdm\n",
    "import os\n",
    "os.environ[\"KMP_DUPLICATE_LIB_OK\"]=\"TRUE\"\n",
    "%matplotlib inline\n",
    "import matplotlib.pyplot as plt\n",
    "import pandas as pd\n",
    "from torch.utils.data import DataLoader, TensorDataset, random_split"
   ]
  },
  {
   "cell_type": "code",
   "execution_count": 447,
   "id": "be9a9f83-071c-4749-93df-28b3fb0441a3",
   "metadata": {},
   "outputs": [],
   "source": [
    "seed = 42\n",
    "\n",
    "np.random.seed(seed)\n",
    "torch.manual_seed(seed)\n",
    "torch.cuda.manual_seed_all(seed)\n",
    "torch.cuda.manual_seed(seed)\n",
    "torch.backends.cudnn.benchmark = False\n",
    "torch.backends.cudnn.deterministic = True"
   ]
  },
  {
   "cell_type": "markdown",
   "id": "730b7801-2e03-4fe1-a19d-eb3028d71240",
   "metadata": {},
   "source": [
    "Import data, construct test and train set"
   ]
  },
  {
   "cell_type": "code",
   "execution_count": 448,
   "id": "03a4ec80-6c91-49e4-975e-a21a64adbda2",
   "metadata": {},
   "outputs": [
    {
     "name": "stdout",
     "output_type": "stream",
     "text": [
      "(1599, 12)\n"
     ]
    },
    {
     "data": {
      "text/html": [
       "<div>\n",
       "<style scoped>\n",
       "    .dataframe tbody tr th:only-of-type {\n",
       "        vertical-align: middle;\n",
       "    }\n",
       "\n",
       "    .dataframe tbody tr th {\n",
       "        vertical-align: top;\n",
       "    }\n",
       "\n",
       "    .dataframe thead th {\n",
       "        text-align: right;\n",
       "    }\n",
       "</style>\n",
       "<table border=\"1\" class=\"dataframe\">\n",
       "  <thead>\n",
       "    <tr style=\"text-align: right;\">\n",
       "      <th></th>\n",
       "      <th>fixed acidity</th>\n",
       "      <th>volatile acidity</th>\n",
       "      <th>citric acid</th>\n",
       "      <th>residual sugar</th>\n",
       "      <th>chlorides</th>\n",
       "      <th>free sulfur dioxide</th>\n",
       "      <th>total sulfur dioxide</th>\n",
       "      <th>density</th>\n",
       "      <th>pH</th>\n",
       "      <th>sulphates</th>\n",
       "      <th>alcohol</th>\n",
       "      <th>quality</th>\n",
       "    </tr>\n",
       "  </thead>\n",
       "  <tbody>\n",
       "    <tr>\n",
       "      <th>0</th>\n",
       "      <td>7.4</td>\n",
       "      <td>0.70</td>\n",
       "      <td>0.00</td>\n",
       "      <td>1.9</td>\n",
       "      <td>0.076</td>\n",
       "      <td>11.0</td>\n",
       "      <td>34.0</td>\n",
       "      <td>0.9978</td>\n",
       "      <td>3.51</td>\n",
       "      <td>0.56</td>\n",
       "      <td>9.4</td>\n",
       "      <td>5</td>\n",
       "    </tr>\n",
       "    <tr>\n",
       "      <th>1</th>\n",
       "      <td>7.8</td>\n",
       "      <td>0.88</td>\n",
       "      <td>0.00</td>\n",
       "      <td>2.6</td>\n",
       "      <td>0.098</td>\n",
       "      <td>25.0</td>\n",
       "      <td>67.0</td>\n",
       "      <td>0.9968</td>\n",
       "      <td>3.20</td>\n",
       "      <td>0.68</td>\n",
       "      <td>9.8</td>\n",
       "      <td>5</td>\n",
       "    </tr>\n",
       "    <tr>\n",
       "      <th>2</th>\n",
       "      <td>7.8</td>\n",
       "      <td>0.76</td>\n",
       "      <td>0.04</td>\n",
       "      <td>2.3</td>\n",
       "      <td>0.092</td>\n",
       "      <td>15.0</td>\n",
       "      <td>54.0</td>\n",
       "      <td>0.9970</td>\n",
       "      <td>3.26</td>\n",
       "      <td>0.65</td>\n",
       "      <td>9.8</td>\n",
       "      <td>5</td>\n",
       "    </tr>\n",
       "    <tr>\n",
       "      <th>3</th>\n",
       "      <td>11.2</td>\n",
       "      <td>0.28</td>\n",
       "      <td>0.56</td>\n",
       "      <td>1.9</td>\n",
       "      <td>0.075</td>\n",
       "      <td>17.0</td>\n",
       "      <td>60.0</td>\n",
       "      <td>0.9980</td>\n",
       "      <td>3.16</td>\n",
       "      <td>0.58</td>\n",
       "      <td>9.8</td>\n",
       "      <td>6</td>\n",
       "    </tr>\n",
       "    <tr>\n",
       "      <th>4</th>\n",
       "      <td>7.4</td>\n",
       "      <td>0.70</td>\n",
       "      <td>0.00</td>\n",
       "      <td>1.9</td>\n",
       "      <td>0.076</td>\n",
       "      <td>11.0</td>\n",
       "      <td>34.0</td>\n",
       "      <td>0.9978</td>\n",
       "      <td>3.51</td>\n",
       "      <td>0.56</td>\n",
       "      <td>9.4</td>\n",
       "      <td>5</td>\n",
       "    </tr>\n",
       "  </tbody>\n",
       "</table>\n",
       "</div>"
      ],
      "text/plain": [
       "   fixed acidity  volatile acidity  citric acid  residual sugar  chlorides  \\\n",
       "0            7.4              0.70         0.00             1.9      0.076   \n",
       "1            7.8              0.88         0.00             2.6      0.098   \n",
       "2            7.8              0.76         0.04             2.3      0.092   \n",
       "3           11.2              0.28         0.56             1.9      0.075   \n",
       "4            7.4              0.70         0.00             1.9      0.076   \n",
       "\n",
       "   free sulfur dioxide  total sulfur dioxide  density    pH  sulphates  \\\n",
       "0                 11.0                  34.0   0.9978  3.51       0.56   \n",
       "1                 25.0                  67.0   0.9968  3.20       0.68   \n",
       "2                 15.0                  54.0   0.9970  3.26       0.65   \n",
       "3                 17.0                  60.0   0.9980  3.16       0.58   \n",
       "4                 11.0                  34.0   0.9978  3.51       0.56   \n",
       "\n",
       "   alcohol  quality  \n",
       "0      9.4        5  \n",
       "1      9.8        5  \n",
       "2      9.8        5  \n",
       "3      9.8        6  \n",
       "4      9.4        5  "
      ]
     },
     "execution_count": 448,
     "metadata": {},
     "output_type": "execute_result"
    }
   ],
   "source": [
    "wine_color = 'white' #change between 'white' and 'red' at leisure\n",
    "file_name = \"winequality-{}.csv\".format(wine_color)\n",
    "df = pd.read_csv(file_name, delimiter = \";\")\n",
    "print(df.shape)\n",
    "df.head()"
   ]
  },
  {
   "cell_type": "code",
   "execution_count": 449,
   "id": "03d85117-cf46-41b1-b106-baee2b165139",
   "metadata": {},
   "outputs": [],
   "source": [
    "features = list(df.columns)[:-1]\n",
    "labels = ['quality']\n",
    "\n",
    "features_array = df[features].to_numpy()\n",
    "labels_array = df[labels].to_numpy()\n",
    "\n",
    "inputs = torch.Tensor(features_array)\n",
    "\n",
    "targets = torch.Tensor(labels_array - 1)\n",
    "\n",
    "dataset = TensorDataset(inputs, targets)"
   ]
  },
  {
   "cell_type": "code",
   "execution_count": 450,
   "id": "f2145b92-e983-4c4b-b0be-a4ee1e4ad1a0",
   "metadata": {},
   "outputs": [],
   "source": [
    "nrows = len(df)\n",
    "val_percent = .10\n",
    "val_size = int(nrows * val_percent)\n",
    "train_size = nrows - val_size\n",
    "train_data, val_data = random_split(dataset, [train_size, val_size])\n",
    "\n",
    "nrows = train_size\n",
    "test_percent = .15\n",
    "test_size = int(nrows * test_percent)\n",
    "train_size = nrows - test_size\n",
    "train_data, test_data = random_split(train_data, [train_size, test_size])\n",
    "\n",
    "# batch_size = 100\n",
    "train_loader = DataLoader(train_data, shuffle = True, drop_last=True)\n",
    "test_loader = DataLoader(test_data)\n",
    "val_loader = DataLoader(val_data, drop_last=True)"
   ]
  },
  {
   "cell_type": "code",
   "execution_count": 451,
   "id": "91bce861-74c5-43b0-8ece-0693d52872d0",
   "metadata": {},
   "outputs": [
    {
     "name": "stdout",
     "output_type": "stream",
     "text": [
      "11\n",
      "1224 216 159\n"
     ]
    }
   ],
   "source": [
    "input_size = len(features)\n",
    "output_size = 9\n",
    "print(input_size)\n",
    "print(len(train_loader), len(test_loader), len(val_loader))"
   ]
  },
  {
   "cell_type": "markdown",
   "id": "b8cf2f93-0f94-44e6-ae7c-9fdd897306af",
   "metadata": {},
   "source": [
    "Now the model"
   ]
  },
  {
   "cell_type": "code",
   "execution_count": 452,
   "id": "501c7836-345a-479d-aefa-09043c8e92a6",
   "metadata": {},
   "outputs": [],
   "source": [
    "class WineQuality(nn.Module):\n",
    "    def __init__(self):\n",
    "        super().__init__()\n",
    "        self.layers = nn.Sequential(\n",
    "            nn.Linear(input_size, 1)\n",
    "        )\n",
    "        \n",
    "    def forward(self, x):\n",
    "        return self.layers(x)"
   ]
  },
  {
   "cell_type": "code",
   "execution_count": 453,
   "id": "9a87f2dc-7217-4390-b4eb-40a8e05a1d9d",
   "metadata": {},
   "outputs": [
    {
     "name": "stdout",
     "output_type": "stream",
     "text": [
      "WineQuality(\n",
      "  (layers): Sequential(\n",
      "    (0): Linear(in_features=11, out_features=1, bias=True)\n",
      "  )\n",
      ")\n",
      "torch.Size([1, 11])\n",
      "torch.Size([1, 1])\n"
     ]
    }
   ],
   "source": [
    "model = WineQuality()\n",
    "print(model)\n",
    "for inputs, labels in train_loader:\n",
    "    print(inputs.shape)\n",
    "    break\n",
    "\n",
    "outputs = model.forward(inputs)\n",
    "print(outputs.shape)"
   ]
  },
  {
   "cell_type": "code",
   "execution_count": 454,
   "id": "187e3a75-c26d-4f2f-b6f3-cc625d64fb75",
   "metadata": {},
   "outputs": [],
   "source": [
    "criterion = torch.nn.MSELoss()\n",
    "optimizer = torch.optim.Adam(model.parameters(), lr = 0.00001)"
   ]
  },
  {
   "cell_type": "code",
   "execution_count": 455,
   "id": "b137d06f-f270-4b20-a9b9-8c532b5e11f3",
   "metadata": {
    "tags": []
   },
   "outputs": [],
   "source": [
    "def train_network(model, train_loader, val_loader, criterion, optimizer, print_every=10, nepoch=5):\n",
    "    try:\n",
    "        for epoch in tqdm(range(nepoch)):\n",
    "            if not (epoch%print_every):\n",
    "                print('EPOCH %d'%epoch)\n",
    "            total_loss = 0\n",
    "            count = 0\n",
    "            for inputs, labels in train_loader:\n",
    "                optimizer.zero_grad()\n",
    "                outputs = model.forward(inputs)\n",
    "                # outputs = torch.argmax(outputs, dim=1)\n",
    "                # print(outputs.shape, labels.flatten().shape)\n",
    "                # print(outputs, labels.flatten())\n",
    "                # print(labels.flatten().shape, outputs.shape)\n",
    "                # print(outputs, labels.flatten().long())\n",
    "                loss = criterion(outputs, labels.flatten())\n",
    "                loss.backward()\n",
    "                optimizer.step()\n",
    "                total_loss += loss.item()\n",
    "                count += 1\n",
    "            if not (epoch%print_every):\n",
    "                print('{:>12s} {:>7.5f}'.format('Train loss:', total_loss/count))\n",
    "            with torch.no_grad():\n",
    "                total_loss = 0\n",
    "                count = 0\n",
    "                for inputs, labels in val_loader:\n",
    "                    outputs = model.forward(inputs)\n",
    "                    loss = criterion(outputs, labels.flatten().long())\n",
    "                    total_loss += loss.item()\n",
    "                    count += 1\n",
    "                if not (epoch%print_every):\n",
    "                    print('{:>12s} {:>7.5f}'.format('Val loss:', total_loss/count))\n",
    "    except KeyboardInterrupt:\n",
    "        print('Exiting from training early')\n",
    "    return\n",
    "\n",
    "def test_network(model, test_loader, mode, verbose=False):\n",
    "    total = 0\n",
    "    sum_differences = 0\n",
    "    predicted_list = []\n",
    "    labels_list = []\n",
    "    \n",
    "    with torch.no_grad():\n",
    "        for inputs, labels  in test_loader:\n",
    "            outputs = model.forward(inputs) # get predicted class label for each test example.\n",
    "            # print(outputs)\n",
    "            # predicted = torch.argmax(outputs, dim=1)\n",
    "            predicted = outputs.numpy()\n",
    "            labels = labels.numpy()\n",
    "            for x in range(len(predicted)):\n",
    "                if (verbose):\n",
    "                    # print(predicted[x], labels[x])\n",
    "                    predicted_list.append(predicted[x])\n",
    "                    labels_list.append(labels[x])\n",
    "                total += 1\n",
    "                sum_differences += abs(predicted[x] - labels[x]) \n",
    "            # print(sum_differences)\n",
    "    if verbose:\n",
    "        print(\"Visualizing classification of\", len(labels_list), \"test points:\")\n",
    "        plt.scatter(predicted_list, labels_list)\n",
    "        plt.show()\n",
    "    acc = (sum_differences/ total)\n",
    "    print('%s average closeness: %0.3f' % (mode, acc))\n",
    "    return acc"
   ]
  },
  {
   "cell_type": "code",
   "execution_count": 456,
   "id": "629af70c-3eff-4275-8f34-f9b54a4142d2",
   "metadata": {},
   "outputs": [
    {
     "data": {
      "application/vnd.jupyter.widget-view+json": {
       "model_id": "05ac3bb9ebc348fdbba0ee1f245fe04d",
       "version_major": 2,
       "version_minor": 0
      },
      "text/plain": [
       "  0%|          | 0/100 [00:00<?, ?it/s]"
      ]
     },
     "metadata": {},
     "output_type": "display_data"
    },
    {
     "name": "stdout",
     "output_type": "stream",
     "text": [
      "EPOCH 0\n"
     ]
    },
    {
     "name": "stderr",
     "output_type": "stream",
     "text": [
      "C:\\Users\\adria\\anaconda3\\envs\\pytorch_env\\lib\\site-packages\\torch\\nn\\modules\\loss.py:529: UserWarning: Using a target size (torch.Size([1])) that is different to the input size (torch.Size([1, 1])). This will likely lead to incorrect results due to broadcasting. Please ensure they have the same size.\n",
      "  return F.mse_loss(input, target, reduction=self.reduction)\n"
     ]
    },
    {
     "name": "stdout",
     "output_type": "stream",
     "text": [
      " Train loss: 9.56191\n",
      "   Val loss: 8.84369\n",
      "EPOCH 10\n",
      " Train loss: 6.48284\n",
      "   Val loss: 6.06689\n",
      "EPOCH 20\n",
      " Train loss: 4.41022\n",
      "   Val loss: 4.20664\n",
      "EPOCH 30\n",
      " Train loss: 2.93078\n",
      "   Val loss: 2.88327\n",
      "EPOCH 40\n",
      " Train loss: 1.95458\n",
      "   Val loss: 2.01104\n",
      "EPOCH 50\n",
      " Train loss: 1.34089\n",
      "   Val loss: 1.45549\n",
      "EPOCH 60\n",
      " Train loss: 0.97492\n",
      "   Val loss: 1.11043\n",
      "EPOCH 70\n",
      " Train loss: 0.75719\n",
      "   Val loss: 0.89199\n",
      "EPOCH 80\n",
      " Train loss: 0.63055\n",
      "   Val loss: 0.75546\n",
      "EPOCH 90\n",
      " Train loss: 0.56204\n",
      "   Val loss: 0.67517\n",
      "Model average closeness: 0.551\n"
     ]
    },
    {
     "data": {
      "text/plain": [
       "array([0.5506678], dtype=float32)"
      ]
     },
     "execution_count": 456,
     "metadata": {},
     "output_type": "execute_result"
    }
   ],
   "source": [
    "train_network(model, train_loader, val_loader, criterion, optimizer, 10, nepoch=100)\n",
    "test_network(model, test_loader, \"Model\")"
   ]
  },
  {
   "cell_type": "code",
   "execution_count": 457,
   "id": "310ba891-afe0-465e-9cc2-dca8e114ace1",
   "metadata": {},
   "outputs": [
    {
     "name": "stdout",
     "output_type": "stream",
     "text": [
      "Visualizing classification of 216 test points:\n"
     ]
    },
    {
     "data": {
      "image/png": "[encoded data removed]",
      "text/plain": [
       "<Figure size 432x288 with 1 Axes>"
      ]
     },
     "metadata": {
      "needs_background": "light"
     },
     "output_type": "display_data"
    },
    {
     "name": "stdout",
     "output_type": "stream",
     "text": [
      "Model average closeness: 0.551\n"
     ]
    },
    {
     "data": {
      "text/plain": [
       "array([0.5506678], dtype=float32)"
      ]
     },
     "execution_count": 457,
     "metadata": {},
     "output_type": "execute_result"
    }
   ],
   "source": [
    "test_network(model, test_loader, \"Model\", True)"
   ]
  },
  {
   "cell_type": "code",
   "execution_count": 458,
   "id": "e4f4dd9e-29f7-4c1d-8aa4-8f4003a5dc6d",
   "metadata": {},
   "outputs": [
    {
     "name": "stdout",
     "output_type": "stream",
     "text": [
      "layers.0.weight tensor([[ 1.5783e-01, -6.5268e-02, -7.4294e-02,  2.7841e-02,  4.0249e-02,\n",
      "         -1.0104e-02, -4.7023e-05, -1.6079e-01,  3.2617e-01,  4.1599e-01,\n",
      "          2.1124e-01]])\n",
      "layers.0.bias tensor([0.0616])\n"
     ]
    },
    {
     "data": {
      "image/png": "[encoded data removed]",
      "text/plain": [
       "<Figure size 432x288 with 1 Axes>"
      ]
     },
     "metadata": {
      "needs_background": "light"
     },
     "output_type": "display_data"
    }
   ],
   "source": [
    "def visualize_weights(model):\n",
    "    for name, param in model.named_parameters():\n",
    "        if param.requires_grad:\n",
    "            print(name, param.data)\n",
    "    weights = model.layers[0].weight.detach()[0].numpy()\n",
    "    pos = np.arange(len(features))\n",
    "    \n",
    "    plt.bar(pos, weights)\n",
    "    plt.xticks(pos, features, rotation=90)\n",
    "    plt.xlabel('Feature')\n",
    "    plt.ylabel('Weight Value')\n",
    "    plt.title('What makes a good {} wine?'.format(wine_color))\n",
    "    plt.show()\n",
    "    \n",
    "visualize_weights(model)"
   ]
  },
  {
   "cell_type": "markdown",
   "id": "61867d73-92ea-40ab-904e-d649da2c7724",
   "metadata": {},
   "source": [
    "Now the model with a deeper architecture"
   ]
  },
  {
   "cell_type": "code",
   "execution_count": 459,
   "id": "6c971f05-6cfa-4bfa-b5b4-55514dc95d02",
   "metadata": {},
   "outputs": [],
   "source": [
    "class WineQualityDeep(nn.Module):\n",
    "    def __init__(self):\n",
    "        super().__init__()\n",
    "        self.layers = nn.Sequential(\n",
    "            nn.Linear(input_size, input_size*2), \n",
    "            nn.PReLU(),\n",
    "            nn.Linear(input_size*2, input_size*4),\n",
    "            nn.PReLU(),\n",
    "            nn.Linear(input_size*4, input_size*8), \n",
    "            nn.PReLU(),\n",
    "            nn.Linear(input_size*8, 1)\n",
    "        )\n",
    "        \n",
    "    def forward(self, x):\n",
    "        return self.layers(x)"
   ]
  },
  {
   "cell_type": "code",
   "execution_count": 460,
   "id": "90590a7f-629f-4675-8033-722d404beb95",
   "metadata": {},
   "outputs": [],
   "source": [
    "model = WineQualityDeep()\n",
    "criterion = torch.nn.MSELoss()\n",
    "optimizer = torch.optim.Adam(model.parameters(), lr = 0.00001)"
   ]
  },
  {
   "cell_type": "code",
   "execution_count": 461,
   "id": "44d5bfcb-f4c0-4519-94ee-391caef5976b",
   "metadata": {},
   "outputs": [
    {
     "data": {
      "application/vnd.jupyter.widget-view+json": {
       "model_id": "dafc0a6fb2d1476380a7eca923988559",
       "version_major": 2,
       "version_minor": 0
      },
      "text/plain": [
       "  0%|          | 0/100 [00:00<?, ?it/s]"
      ]
     },
     "metadata": {},
     "output_type": "display_data"
    },
    {
     "name": "stdout",
     "output_type": "stream",
     "text": [
      "EPOCH 0\n",
      " Train loss: 7.92022\n",
      "   Val loss: 5.19638\n",
      "EPOCH 5\n",
      " Train loss: 1.04702\n",
      "   Val loss: 0.81320\n",
      "EPOCH 10\n",
      " Train loss: 0.53481\n",
      "   Val loss: 0.60622\n",
      "EPOCH 15\n",
      " Train loss: 0.50416\n",
      "   Val loss: 0.60374\n",
      "EPOCH 20\n",
      " Train loss: 0.49661\n",
      "   Val loss: 0.60307\n",
      "EPOCH 25\n",
      " Train loss: 0.49315\n",
      "   Val loss: 0.60213\n",
      "EPOCH 30\n",
      " Train loss: 0.48921\n",
      "   Val loss: 0.59683\n",
      "EPOCH 35\n",
      " Train loss: 0.48553\n",
      "   Val loss: 0.59768\n",
      "EPOCH 40\n",
      " Train loss: 0.48228\n",
      "   Val loss: 0.60237\n",
      "EPOCH 45\n",
      " Train loss: 0.48015\n",
      "   Val loss: 0.60281\n",
      "Exiting from training early\n",
      "Model average closeness: 0.540\n"
     ]
    },
    {
     "data": {
      "text/plain": [
       "array([0.53995013], dtype=float32)"
      ]
     },
     "execution_count": 461,
     "metadata": {},
     "output_type": "execute_result"
    }
   ],
   "source": [
    "train_network(model, train_loader, val_loader, criterion, optimizer, 5, nepoch=100)\n",
    "test_network(model, test_loader, \"Model\")"
   ]
  },
  {
   "cell_type": "code",
   "execution_count": 462,
   "id": "ae8e8d55-b325-4140-9ea9-09b24dffc316",
   "metadata": {},
   "outputs": [
    {
     "name": "stdout",
     "output_type": "stream",
     "text": [
      "Visualizing classification of 216 test points:\n"
     ]
    },
    {
     "data": {
      "image/png": "[encoded data removed]",
      "text/plain": [
       "<Figure size 432x288 with 1 Axes>"
      ]
     },
     "metadata": {
      "needs_background": "light"
     },
     "output_type": "display_data"
    },
    {
     "name": "stdout",
     "output_type": "stream",
     "text": [
      "Model average closeness: 0.540\n"
     ]
    },
    {
     "data": {
      "text/plain": [
       "array([0.53995013], dtype=float32)"
      ]
     },
     "execution_count": 462,
     "metadata": {},
     "output_type": "execute_result"
    }
   ],
   "source": [
    "test_network(model, test_loader, \"Model\", True)"
   ]
  }
 ],
 "metadata": {
  "kernelspec": {
   "display_name": "Python 3 (ipykernel)",
   "language": "python",
   "name": "python3"
  },
  "language_info": {
   "codemirror_mode": {
    "name": "ipython",
    "version": 3
   },
   "file_extension": ".py",
   "mimetype": "text/x-python",
   "name": "python",
   "nbconvert_exporter": "python",
   "pygments_lexer": "ipython3",
   "version": "3.9.11"
  }
 },
 "nbformat": 4,
 "nbformat_minor": 5
}
